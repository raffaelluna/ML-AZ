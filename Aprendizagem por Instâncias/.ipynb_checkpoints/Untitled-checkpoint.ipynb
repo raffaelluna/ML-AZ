{
 "cells": [
  {
   "cell_type": "markdown",
   "metadata": {},
   "source": [
    "# kNN - k Nearest Neightbours\n",
    "\n",
    "É um algoritmo do tipo *lazy*, isto é, não gera um modelo para os dados de treinamento, apenas os memoriza e, dada uma instância de teste, calcula-se a distância para cada instância do conjunto de treino e, pelo voto da maioria dos **k vizinhos mais próximos**, define-se a classe.\n",
    "\n",
    "### Distância de Minkowski\n",
    "Calcula-se a Distância de Minkowski $\\textbf{d}$ fazendo $$ d(\\textbf{x}^{(i)},\\textbf{x}^{(j)})=\\sqrt[p]{\\sum_{k}|x_{k}^{(i)}-x_{k}^{(j)}|^{p}}, $$ em que:\n",
    "* $\\textbf{x}^{(i)}$ é uma instância dos dados de teste, cujos elementos são $x_{k}^{(i)}$;\n",
    "* $\\textbf{x}^{(j)}$ é uma instância dos dados de treino, cujos elementos são $x_{k}^{(j)}$;\n",
    "* $p$ é a ordem da distância.\n",
    "\n",
    "### Algoritmo\n",
    "\n",
    "1. Definir a métrica de distância;\n",
    "2. Dado uma instância de teste, calcular a distância para cada instância de treino e armazená-las em uma lista;\n",
    "3. Ordenar a lista com as distâncias e selecionar os $\\textbf{k}$ elementos com menor distância;\n",
    "4. Nesses $\\textbf{k}$ elementos, ver a classe de maior frequência para atribuí-la à instância teste. Em caso de empate, atribui-se a classe referente à menor distância."
   ]
  },
  {
   "cell_type": "code",
   "execution_count": 2,
   "metadata": {},
   "outputs": [],
   "source": [
    "import pandas as pd\n",
    "import numpy as np\n",
    "import matplotlib.pyplot as plt"
   ]
  },
  {
   "cell_type": "code",
   "execution_count": 4,
   "metadata": {},
   "outputs": [],
   "source": [
    "def dist(x_test, x_train, p):\n",
    "    \"\"\"\n",
    "    Implementa a Distância de Minkowski:\n",
    "    Recebe dois vetores x_teste e x_train e retorna a distância entre eles.\n",
    "    \"\"\"\n",
    "    \n",
    "    sum_ = 0\n",
    "    \n",
    "    #Soma o módulo diferença elevada a p dos elementos dos vetores\n",
    "    for i in range(len(x_test)):\n",
    "        sum_ += abs(x_test[i] - x_train[i])**p\n",
    "        \n",
    "    return sum_**(1/p)\n"
   ]
  },
  {
   "cell_type": "code",
   "execution_count": 10,
   "metadata": {},
   "outputs": [
    {
     "name": "stdout",
     "output_type": "stream",
     "text": [
      "4.47213595499958\n"
     ]
    }
   ],
   "source": [
    "def knnClf(df_train, df_test, k, p):\n",
    "    \n",
    "    for test_instance in df_test:\n",
    "        \n",
    "        distances = [dist(test_instance, train_instance) for train_instance in df_train]\n",
    "        "
   ]
  }
 ],
 "metadata": {
  "kernelspec": {
   "display_name": "Python 3",
   "language": "python",
   "name": "python3"
  },
  "language_info": {
   "codemirror_mode": {
    "name": "ipython",
    "version": 3
   },
   "file_extension": ".py",
   "mimetype": "text/x-python",
   "name": "python",
   "nbconvert_exporter": "python",
   "pygments_lexer": "ipython3",
   "version": "3.8.3"
  },
  "varInspector": {
   "cols": {
    "lenName": 16,
    "lenType": 16,
    "lenVar": 40
   },
   "kernels_config": {
    "python": {
     "delete_cmd_postfix": "",
     "delete_cmd_prefix": "del ",
     "library": "var_list.py",
     "varRefreshCmd": "print(var_dic_list())"
    },
    "r": {
     "delete_cmd_postfix": ") ",
     "delete_cmd_prefix": "rm(",
     "library": "var_list.r",
     "varRefreshCmd": "cat(var_dic_list()) "
    }
   },
   "types_to_exclude": [
    "module",
    "function",
    "builtin_function_or_method",
    "instance",
    "_Feature"
   ],
   "window_display": false
  }
 },
 "nbformat": 4,
 "nbformat_minor": 4
}
