{
 "cells": [
  {
   "cell_type": "markdown",
   "metadata": {},
   "source": [
    "# Naive Bayes from Scratch"
   ]
  },
  {
   "cell_type": "markdown",
   "metadata": {},
   "source": [
    "Em um problema de classificação, com $k$ classes $y_{1}, y_{2}, ..., y_{k}$ e $n$ atributos $x_{1}, x_{2}, ..., x_{n}$, o que se busca é encontrar a probabilidade de uma entrada, com seus atributos, pertencer à classe $i$, isto é, $P(C=y_{i}|x_{1}, x_{2}, ..., x_{n})$.\n",
    "\n",
    "Do Teorema de Bayes, $$P(C=y_{i}|x_{1}, x_{2}, ..., x_{n}) = \\frac{P(x_{1}, x_{2}, ..., x_{n}|C=y_{i})P(C=y_{i})}{P(x_{1}, x_{2}, ..., x_{n})}$$\n",
    "\n",
    "* $P(C=y_{i}|x_{1}, x_{2}, ..., x_{n})$: Probabilidade a posteriori\n",
    "* $P(C=y_{i})$: Probabilidade a priori - $\\frac{\\#dados da classe y_{i}}{\\#dados totais}$\n",
    "* $P(x_{1}, x_{2}, ..., x_{n}|C=y_{i})$: Verossimilhança - aqui se faz a suposição de que os atributos são independentes, logo, $$P(x_{1}, x_{2}, ..., x_{n}|C=y_{i})=P(x_{1}|C=y_{i})P(x_{2}|C=y_{i})...P(x_{n}|C=y_{i})$$\n",
    "* $P(x_{1}, x_{2}, ..., x_{n})$: Evidência - é um termo constante e, por isso, pode ser desprezado dos cálculos.\n",
    "\n",
    "Portanto, $$P(C=y_{i}|x_{1}, x_{2}, ..., x_{n}) = P(C=y_{i})P(x_{1}|C=y_{i})P(x_{2}|C=y_{i})...P(x_{n}|C=y_{i}).$$"
   ]
  },
  {
   "cell_type": "markdown",
   "metadata": {},
   "source": [
    "Geralmente, para cada tipo de atributo, utiliza-se uma abordagem diferente:\n",
    "* Binário: Distribuição binomial\n",
    "* Categórica: Distribuição multinomial\n",
    "* Numérica: Distribuição Gaussiana   "
   ]
  },
  {
   "cell_type": "code",
   "execution_count": 1,
   "metadata": {},
   "outputs": [],
   "source": [
    "import pandas as pd\n",
    "import numpy as np\n",
    "from scipy.stats import norm\n",
    "from sklearn.datasets import make_blobs\n",
    "from sklearn.model_selection import train_test_split"
   ]
  },
  {
   "cell_type": "code",
   "execution_count": 2,
   "metadata": {},
   "outputs": [
    {
     "data": {
      "text/html": [
       "<div>\n",
       "<style scoped>\n",
       "    .dataframe tbody tr th:only-of-type {\n",
       "        vertical-align: middle;\n",
       "    }\n",
       "\n",
       "    .dataframe tbody tr th {\n",
       "        vertical-align: top;\n",
       "    }\n",
       "\n",
       "    .dataframe thead th {\n",
       "        text-align: right;\n",
       "    }\n",
       "</style>\n",
       "<table border=\"1\" class=\"dataframe\">\n",
       "  <thead>\n",
       "    <tr style=\"text-align: right;\">\n",
       "      <th></th>\n",
       "      <th>age</th>\n",
       "      <th>workclass</th>\n",
       "      <th>final-weight</th>\n",
       "      <th>education</th>\n",
       "      <th>education-num</th>\n",
       "      <th>marital-status</th>\n",
       "      <th>occupation</th>\n",
       "      <th>relationship</th>\n",
       "      <th>race</th>\n",
       "      <th>sex</th>\n",
       "      <th>capital-gain</th>\n",
       "      <th>capital-loos</th>\n",
       "      <th>hour-per-week</th>\n",
       "      <th>native-country</th>\n",
       "      <th>income</th>\n",
       "    </tr>\n",
       "  </thead>\n",
       "  <tbody>\n",
       "    <tr>\n",
       "      <th>0</th>\n",
       "      <td>39</td>\n",
       "      <td>State-gov</td>\n",
       "      <td>77516</td>\n",
       "      <td>Bachelors</td>\n",
       "      <td>13</td>\n",
       "      <td>Never-married</td>\n",
       "      <td>Adm-clerical</td>\n",
       "      <td>Not-in-family</td>\n",
       "      <td>White</td>\n",
       "      <td>Male</td>\n",
       "      <td>2174</td>\n",
       "      <td>0</td>\n",
       "      <td>40</td>\n",
       "      <td>United-States</td>\n",
       "      <td>&lt;=50K</td>\n",
       "    </tr>\n",
       "    <tr>\n",
       "      <th>1</th>\n",
       "      <td>50</td>\n",
       "      <td>Self-emp-not-inc</td>\n",
       "      <td>83311</td>\n",
       "      <td>Bachelors</td>\n",
       "      <td>13</td>\n",
       "      <td>Married-civ-spouse</td>\n",
       "      <td>Exec-managerial</td>\n",
       "      <td>Husband</td>\n",
       "      <td>White</td>\n",
       "      <td>Male</td>\n",
       "      <td>0</td>\n",
       "      <td>0</td>\n",
       "      <td>13</td>\n",
       "      <td>United-States</td>\n",
       "      <td>&lt;=50K</td>\n",
       "    </tr>\n",
       "    <tr>\n",
       "      <th>2</th>\n",
       "      <td>38</td>\n",
       "      <td>Private</td>\n",
       "      <td>215646</td>\n",
       "      <td>HS-grad</td>\n",
       "      <td>9</td>\n",
       "      <td>Divorced</td>\n",
       "      <td>Handlers-cleaners</td>\n",
       "      <td>Not-in-family</td>\n",
       "      <td>White</td>\n",
       "      <td>Male</td>\n",
       "      <td>0</td>\n",
       "      <td>0</td>\n",
       "      <td>40</td>\n",
       "      <td>United-States</td>\n",
       "      <td>&lt;=50K</td>\n",
       "    </tr>\n",
       "    <tr>\n",
       "      <th>3</th>\n",
       "      <td>53</td>\n",
       "      <td>Private</td>\n",
       "      <td>234721</td>\n",
       "      <td>11th</td>\n",
       "      <td>7</td>\n",
       "      <td>Married-civ-spouse</td>\n",
       "      <td>Handlers-cleaners</td>\n",
       "      <td>Husband</td>\n",
       "      <td>Black</td>\n",
       "      <td>Male</td>\n",
       "      <td>0</td>\n",
       "      <td>0</td>\n",
       "      <td>40</td>\n",
       "      <td>United-States</td>\n",
       "      <td>&lt;=50K</td>\n",
       "    </tr>\n",
       "    <tr>\n",
       "      <th>4</th>\n",
       "      <td>28</td>\n",
       "      <td>Private</td>\n",
       "      <td>338409</td>\n",
       "      <td>Bachelors</td>\n",
       "      <td>13</td>\n",
       "      <td>Married-civ-spouse</td>\n",
       "      <td>Prof-specialty</td>\n",
       "      <td>Wife</td>\n",
       "      <td>Black</td>\n",
       "      <td>Female</td>\n",
       "      <td>0</td>\n",
       "      <td>0</td>\n",
       "      <td>40</td>\n",
       "      <td>Cuba</td>\n",
       "      <td>&lt;=50K</td>\n",
       "    </tr>\n",
       "  </tbody>\n",
       "</table>\n",
       "</div>"
      ],
      "text/plain": [
       "   age          workclass  final-weight   education  education-num  \\\n",
       "0   39          State-gov         77516   Bachelors             13   \n",
       "1   50   Self-emp-not-inc         83311   Bachelors             13   \n",
       "2   38            Private        215646     HS-grad              9   \n",
       "3   53            Private        234721        11th              7   \n",
       "4   28            Private        338409   Bachelors             13   \n",
       "\n",
       "        marital-status          occupation    relationship    race      sex  \\\n",
       "0        Never-married        Adm-clerical   Not-in-family   White     Male   \n",
       "1   Married-civ-spouse     Exec-managerial         Husband   White     Male   \n",
       "2             Divorced   Handlers-cleaners   Not-in-family   White     Male   \n",
       "3   Married-civ-spouse   Handlers-cleaners         Husband   Black     Male   \n",
       "4   Married-civ-spouse      Prof-specialty            Wife   Black   Female   \n",
       "\n",
       "   capital-gain  capital-loos  hour-per-week  native-country  income  \n",
       "0          2174             0             40   United-States   <=50K  \n",
       "1             0             0             13   United-States   <=50K  \n",
       "2             0             0             40   United-States   <=50K  \n",
       "3             0             0             40   United-States   <=50K  \n",
       "4             0             0             40            Cuba   <=50K  "
      ]
     },
     "execution_count": 2,
     "metadata": {},
     "output_type": "execute_result"
    }
   ],
   "source": [
    "path = '~/ML-AZ/census.csv'\n",
    "df = pd.read_csv(path)\n",
    "\n",
    "df.head()"
   ]
  },
  {
   "cell_type": "code",
   "execution_count": 3,
   "metadata": {},
   "outputs": [],
   "source": [
    "x_census = df.iloc[:, 0:14].values\n",
    "y_census = df.iloc[:, 14].values"
   ]
  },
  {
   "cell_type": "code",
   "execution_count": 4,
   "metadata": {},
   "outputs": [
    {
     "name": "stdout",
     "output_type": "stream",
     "text": [
      "(32561, 108)\n",
      "(32561,)\n"
     ]
    }
   ],
   "source": [
    "from sklearn.preprocessing import LabelEncoder, OneHotEncoder\n",
    "from sklearn.compose import ColumnTransformer\n",
    "\n",
    "#OneHotEncoder cria uma coluna dummy para cada atributo nominal único, de\n",
    "#modo a não criar uma ordem ao atribuir labels do tipo 0, 1, 3, 4...\n",
    "#ColumnTransformer transforma seletivamente as colunas de um array multi-atributos\n",
    "onehotencorder = ColumnTransformer(transformers=[(\"OneHot\", OneHotEncoder(), [1,3,5,6,7,8,9,13])],remainder='passthrough')\n",
    "x_census = onehotencorder.fit_transform(x_census).toarray()\n",
    "print(x_census.shape)\n",
    "df_census = pd.DataFrame(data=x_census)\n",
    "\n",
    "labelencoder = LabelEncoder()\n",
    "y_census = labelencoder.fit_transform(y_census)\n",
    "print(y_census.shape)\n",
    "y_census = pd.DataFrame(data=y_census)"
   ]
  },
  {
   "cell_type": "code",
   "execution_count": 5,
   "metadata": {},
   "outputs": [],
   "source": [
    "X_train, X_test, Y_train, Y_test = train_test_split(df_census, y_census, test_size = 0.25, random_state = 0)"
   ]
  },
  {
   "cell_type": "code",
   "execution_count": 6,
   "metadata": {},
   "outputs": [
    {
     "name": "stdout",
     "output_type": "stream",
     "text": [
      "Training examples shape is:  (24420, 108)\n",
      "Training labels shape is:  (24420, 1)\n",
      "Test examples shape is:  (8141, 108)\n",
      "Test labels shape is:  (8141, 1)\n"
     ]
    }
   ],
   "source": [
    "print('Training examples shape is: ',X_train.shape)\n",
    "print('Training labels shape is: ',Y_train.shape)\n",
    "print('Test examples shape is: ',X_test.shape)\n",
    "print('Test labels shape is: ',Y_test.shape)"
   ]
  },
  {
   "cell_type": "code",
   "execution_count": 7,
   "metadata": {},
   "outputs": [],
   "source": [
    "def getParam(data):\n",
    "    return [np.mean(data), np.std(data)]"
   ]
  },
  {
   "cell_type": "code",
   "execution_count": 8,
   "metadata": {},
   "outputs": [],
   "source": [
    "def gaussianProb(x, mean_, std_):\n",
    "    variance = float(std_)**2\n",
    "    const = (2*np.pi*variance+1e-0)**.5\n",
    "    return np.exp(-(float(x)-float(mean_))**2/(2*variance+1e-0))/const"
   ]
  },
  {
   "cell_type": "code",
   "execution_count": 9,
   "metadata": {},
   "outputs": [],
   "source": [
    "class NaiveBayes:\n",
    "    def __init__(self, unique_classes):  # inicilizar a classe com os labels únicos\n",
    "\n",
    "        self.classes = unique_classes\n",
    "\n",
    "    def train(self, df, y):\n",
    "        \"\"\"\n",
    "        O treinamento consiste, basicamente, em construir uma matriz em que cada linha representa uma classe.\n",
    "        Os elementos de cada coluna são a média e o desvio padrão da coluna de atributo da respectiva classe.\n",
    "\n",
    "        Entradas: Dataset de treino e coluna com as classes.\n",
    "        Saída: Não há.\n",
    "\n",
    "        \"\"\"\n",
    "\n",
    "        self.df = df\n",
    "        self.y = y\n",
    "        self.df['y'] = self.y\n",
    "\n",
    "        print('-------- Start Training --------')\n",
    "        print('Training with ', len(df), ' examples and ',\n",
    "              len(self.classes), ' classes.')\n",
    "\n",
    "        self.labelList = []\n",
    "        self.prioriList = []\n",
    "        for lbls in self.classes:\n",
    "\n",
    "            # seleciona apenas os exemplos cujas classes são lbls\n",
    "            df_byClass = self.df.loc[self.df.iloc[:, -1] == lbls]\n",
    "            # armazena a proporção de cada classe\n",
    "            self.prioriList.append(np.log(len(df_byClass)/len(self.df)))\n",
    "\n",
    "            # para cada classe, armazena a distribuição de cada coluna\n",
    "            distList = [getParam(df_byClass.iloc[:, cols])\n",
    "                        for cols in range(len(df_byClass.columns[:-1]))]\n",
    "\n",
    "            self.labelList.append(distList)\n",
    "\n",
    "        print('Log priori probability for class 0: ', self.prioriList[0])\n",
    "        print('Log priori probability for class 1: ', self.prioriList[1])\n",
    "        # print(self.labelList)\n",
    "        print('--------  End Training  --------')\n",
    "\n",
    "    def prob(self, xx):\n",
    "\n",
    "        multList = []\n",
    "        for i in range(len(self.classes)):\n",
    "\n",
    "            # print(self.labelList[i])\n",
    "            sum_ = 0\n",
    "            for cols in range(len(self.labelList[i])):\n",
    "                #print('Parametros: ', self.labelList[i][cols][0], self.labelList[i][cols][1])\n",
    "                sum_ += np.log(gaussianProb(xx[cols],\n",
    "                                            self.labelList[i][cols][0],\n",
    "                                            self.labelList[i][cols][1]) + 1e-12)\n",
    "                # print(sum_)\n",
    "\n",
    "            multList.append(self.prioriList[i]+sum_)\n",
    "            # print(multList)\n",
    "        return multList\n",
    "\n",
    "    def predict(self, x):\n",
    "\n",
    "        x = x.reset_index(drop=True)\n",
    "        yhat = [self.classes[np.argmax(\n",
    "            self.prob(x.iloc[rows].tolist()))] for rows in range(len(x))]\n",
    "\n",
    "        return yhat"
   ]
  },
  {
   "cell_type": "code",
   "execution_count": 10,
   "metadata": {},
   "outputs": [],
   "source": [
    "labels = list(np.unique(Y_train))\n",
    "classificador = NaiveBayes(labels)"
   ]
  },
  {
   "cell_type": "code",
   "execution_count": 11,
   "metadata": {},
   "outputs": [
    {
     "name": "stdout",
     "output_type": "stream",
     "text": [
      "-------- Start Training --------\n",
      "Training with  24420  examples and  2  classes.\n",
      "Log priori probability for class 0:  -0.2743398634655972\n",
      "Log priori probability for class 1:  -1.427423528119907\n",
      "--------  End Training  --------\n"
     ]
    },
    {
     "name": "stderr",
     "output_type": "stream",
     "text": [
      "<ipython-input-9-ed7adddc3791>:18: SettingWithCopyWarning: \n",
      "A value is trying to be set on a copy of a slice from a DataFrame.\n",
      "Try using .loc[row_indexer,col_indexer] = value instead\n",
      "\n",
      "See the caveats in the documentation: https://pandas.pydata.org/pandas-docs/stable/user_guide/indexing.html#returning-a-view-versus-a-copy\n",
      "  self.df['y'] = self.y\n"
     ]
    }
   ],
   "source": [
    "classificador.train(X_train, Y_train)"
   ]
  },
  {
   "cell_type": "code",
   "execution_count": 12,
   "metadata": {},
   "outputs": [],
   "source": [
    "resultados = classificador.predict(X_test)\n",
    "#resultados"
   ]
  },
  {
   "cell_type": "code",
   "execution_count": 13,
   "metadata": {},
   "outputs": [
    {
     "data": {
      "text/plain": [
       "0.8193096671170618"
      ]
     },
     "execution_count": 13,
     "metadata": {},
     "output_type": "execute_result"
    }
   ],
   "source": [
    "from sklearn.metrics import confusion_matrix, accuracy_score\n",
    "precisao = accuracy_score(Y_test, resultados)\n",
    "precisao"
   ]
  },
  {
   "cell_type": "code",
   "execution_count": null,
   "metadata": {},
   "outputs": [],
   "source": []
  }
 ],
 "metadata": {
  "kernelspec": {
   "display_name": "Python 3",
   "language": "python",
   "name": "python3"
  },
  "language_info": {
   "codemirror_mode": {
    "name": "ipython",
    "version": 3
   },
   "file_extension": ".py",
   "mimetype": "text/x-python",
   "name": "python",
   "nbconvert_exporter": "python",
   "pygments_lexer": "ipython3",
   "version": "3.8.3"
  }
 },
 "nbformat": 4,
 "nbformat_minor": 4
}
