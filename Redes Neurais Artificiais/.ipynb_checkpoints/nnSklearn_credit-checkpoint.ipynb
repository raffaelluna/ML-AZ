{
 "cells": [
  {
   "cell_type": "code",
   "execution_count": 1,
   "metadata": {},
   "outputs": [],
   "source": [
    "import pandas as pd\n",
    "import numpy as np"
   ]
  },
  {
   "cell_type": "code",
   "execution_count": 2,
   "metadata": {},
   "outputs": [],
   "source": [
    "path = '~/ML-AZ/credit_data.csv'\n",
    "df = pd.read_csv(path)"
   ]
  },
  {
   "cell_type": "code",
   "execution_count": 3,
   "metadata": {},
   "outputs": [],
   "source": [
    "df.loc[df['age'] < 0]\n",
    "# df.drop(df[df.age < 0].index, inplace=True) Deleta as linhas com idade inválida\n",
    "\n",
    "df['age'][df.age > 0].mean()\n",
    "df.loc[df.age < 0, 'age'] = df['age'][df.age > 0].mean()"
   ]
  },
  {
   "cell_type": "code",
   "execution_count": 4,
   "metadata": {},
   "outputs": [
    {
     "data": {
      "text/html": [
       "<div>\n",
       "<style scoped>\n",
       "    .dataframe tbody tr th:only-of-type {\n",
       "        vertical-align: middle;\n",
       "    }\n",
       "\n",
       "    .dataframe tbody tr th {\n",
       "        vertical-align: top;\n",
       "    }\n",
       "\n",
       "    .dataframe thead th {\n",
       "        text-align: right;\n",
       "    }\n",
       "</style>\n",
       "<table border=\"1\" class=\"dataframe\">\n",
       "  <thead>\n",
       "    <tr style=\"text-align: right;\">\n",
       "      <th></th>\n",
       "      <th>i#clientid</th>\n",
       "      <th>income</th>\n",
       "      <th>age</th>\n",
       "      <th>loan</th>\n",
       "      <th>c#default</th>\n",
       "    </tr>\n",
       "  </thead>\n",
       "  <tbody>\n",
       "    <tr>\n",
       "      <th>28</th>\n",
       "      <td>29</td>\n",
       "      <td>59417.805406</td>\n",
       "      <td>NaN</td>\n",
       "      <td>2082.625938</td>\n",
       "      <td>0</td>\n",
       "    </tr>\n",
       "    <tr>\n",
       "      <th>30</th>\n",
       "      <td>31</td>\n",
       "      <td>48528.852796</td>\n",
       "      <td>NaN</td>\n",
       "      <td>6155.784670</td>\n",
       "      <td>0</td>\n",
       "    </tr>\n",
       "    <tr>\n",
       "      <th>31</th>\n",
       "      <td>32</td>\n",
       "      <td>23526.302555</td>\n",
       "      <td>NaN</td>\n",
       "      <td>2862.010139</td>\n",
       "      <td>0</td>\n",
       "    </tr>\n",
       "  </tbody>\n",
       "</table>\n",
       "</div>"
      ],
      "text/plain": [
       "    i#clientid        income  age         loan  c#default\n",
       "28          29  59417.805406  NaN  2082.625938          0\n",
       "30          31  48528.852796  NaN  6155.784670          0\n",
       "31          32  23526.302555  NaN  2862.010139          0"
      ]
     },
     "execution_count": 4,
     "metadata": {},
     "output_type": "execute_result"
    }
   ],
   "source": [
    "df.loc[pd.isnull(df['age'])]"
   ]
  },
  {
   "cell_type": "code",
   "execution_count": 5,
   "metadata": {},
   "outputs": [],
   "source": [
    "X_credit = df.iloc[:, 1:4].values\n",
    "Y_credit = df.iloc[:, 4].values"
   ]
  },
  {
   "cell_type": "code",
   "execution_count": 6,
   "metadata": {},
   "outputs": [
    {
     "data": {
      "text/plain": [
       "array([[6.61559251e+04, 5.90170151e+01, 8.10653213e+03],\n",
       "       [3.44151540e+04, 4.81171531e+01, 6.56474502e+03],\n",
       "       [5.73171701e+04, 6.31080495e+01, 8.02095330e+03],\n",
       "       ...,\n",
       "       [4.43114493e+04, 2.80171669e+01, 5.52278669e+03],\n",
       "       [4.37560566e+04, 6.39717958e+01, 1.62272260e+03],\n",
       "       [6.94365796e+04, 5.61526170e+01, 7.37883360e+03]])"
      ]
     },
     "execution_count": 6,
     "metadata": {},
     "output_type": "execute_result"
    }
   ],
   "source": [
    "from sklearn.impute import SimpleImputer\n",
    "\n",
    "# mean imputation df.fillna(df.mean())\n",
    "imputer = SimpleImputer(missing_values=np.nan, strategy='mean')\n",
    "\n",
    "# Aprende os parametros dos dados de treino\n",
    "imputer = imputer.fit(X_credit[:, 1:4])\n",
    "\n",
    "# Usa estes parâmetros para transformar os dados\n",
    "X_credit[:, 1:4] = imputer.transform(X_credit[:, 1:4])\n",
    "X_credit"
   ]
  },
  {
   "cell_type": "code",
   "execution_count": 7,
   "metadata": {},
   "outputs": [],
   "source": [
    "from sklearn.preprocessing import StandardScaler\n",
    "scaler = StandardScaler()\n",
    "previsores = scaler.fit_transform(X_credit)"
   ]
  },
  {
   "cell_type": "code",
   "execution_count": 8,
   "metadata": {},
   "outputs": [],
   "source": [
    "from sklearn.model_selection import train_test_split\n",
    "X_train_credit, X_test_credit, Y_train_credit, Y_test_credit = train_test_split(\n",
    "                                                                    X_credit,\n",
    "                                                                    Y_credit,\n",
    "                                                                    test_size=0.25,\n",
    "                                                                    random_state=0)"
   ]
  },
  {
   "cell_type": "code",
   "execution_count": 9,
   "metadata": {},
   "outputs": [],
   "source": [
    "from sklearn.neural_network import MLPClassifier"
   ]
  },
  {
   "cell_type": "code",
   "execution_count": 18,
   "metadata": {},
   "outputs": [
    {
     "name": "stdout",
     "output_type": "stream",
     "text": [
      "Iteration 1, loss = 10.05532249\n",
      "Iteration 2, loss = 5.44006908\n",
      "Iteration 3, loss = 7.70803099\n",
      "Iteration 4, loss = 6.12658059\n",
      "Iteration 5, loss = 5.42783776\n",
      "Iteration 6, loss = 5.99087480\n",
      "Iteration 7, loss = 6.02176420\n",
      "Iteration 8, loss = 5.52620702\n",
      "Iteration 9, loss = 5.34293455\n",
      "Iteration 10, loss = 5.51922122\n",
      "Iteration 11, loss = 5.32132383\n",
      "Iteration 12, loss = 5.46198569\n",
      "Iteration 13, loss = 5.29936077\n",
      "Iteration 14, loss = 4.54739882\n",
      "Iteration 15, loss = 4.18667324\n",
      "Iteration 16, loss = 3.62488744\n",
      "Iteration 17, loss = 3.07995969\n",
      "Iteration 18, loss = 7.39414496\n",
      "Iteration 19, loss = 4.65079388\n",
      "Iteration 20, loss = 3.67452935\n",
      "Iteration 21, loss = 2.96853214\n",
      "Iteration 22, loss = 6.93032500\n",
      "Iteration 23, loss = 6.75083389\n",
      "Iteration 24, loss = 5.04865318\n",
      "Iteration 25, loss = 3.76641470\n",
      "Iteration 26, loss = 2.97088967\n",
      "Iteration 27, loss = 2.91706907\n",
      "Iteration 28, loss = 4.60454024\n",
      "Iteration 29, loss = 3.51971110\n",
      "Iteration 30, loss = 5.90272096\n",
      "Iteration 31, loss = 4.47896052\n",
      "Iteration 32, loss = 3.58249252\n",
      "Iteration 33, loss = 4.17198123\n",
      "Iteration 34, loss = 5.18421130\n",
      "Iteration 35, loss = 5.09412612\n",
      "Iteration 36, loss = 3.46818938\n",
      "Iteration 37, loss = 1.84914372\n",
      "Iteration 38, loss = 3.37350817\n",
      "Iteration 39, loss = 4.01654864\n",
      "Iteration 40, loss = 4.99061148\n",
      "Iteration 41, loss = 4.96242802\n",
      "Iteration 42, loss = 5.60014784\n",
      "Iteration 43, loss = 4.48553949\n",
      "Iteration 44, loss = 3.14643478\n",
      "Iteration 45, loss = 5.12425956\n",
      "Iteration 46, loss = 6.39826140\n",
      "Iteration 47, loss = 6.02426620\n",
      "Iteration 48, loss = 5.22933995\n",
      "Training loss did not improve more than tol=0.000001 for 10 consecutive epochs. Stopping.\n"
     ]
    },
    {
     "data": {
      "text/plain": [
       "MLPClassifier(hidden_layer_sizes=100, max_iter=1000, tol=1e-06, verbose=True)"
      ]
     },
     "execution_count": 18,
     "metadata": {},
     "output_type": "execute_result"
    }
   ],
   "source": [
    "clf = MLPClassifier(verbose = True,\n",
    "                    max_iter=1000,\n",
    "                    tol=0.0000010,\n",
    "                    solver='adam',\n",
    "                    hidden_layer_sizes=(100),\n",
    "                    activation='relu'\n",
    "                   )\n",
    "clf.fit(X_train_credit, Y_train_credit)"
   ]
  },
  {
   "cell_type": "code",
   "execution_count": 19,
   "metadata": {},
   "outputs": [],
   "source": [
    "resultado = clf.predict(X_test_credit)"
   ]
  },
  {
   "cell_type": "code",
   "execution_count": 20,
   "metadata": {},
   "outputs": [],
   "source": [
    "from sklearn.metrics import confusion_matrix, accuracy_score\n",
    "precisao = accuracy_score(Y_test_credit, resultado)\n",
    "matriz = confusion_matrix(Y_test_credit, resultado)"
   ]
  },
  {
   "cell_type": "code",
   "execution_count": 21,
   "metadata": {},
   "outputs": [
    {
     "data": {
      "text/plain": [
       "0.872"
      ]
     },
     "execution_count": 21,
     "metadata": {},
     "output_type": "execute_result"
    }
   ],
   "source": [
    "precisao"
   ]
  },
  {
   "cell_type": "code",
   "execution_count": null,
   "metadata": {},
   "outputs": [],
   "source": []
  }
 ],
 "metadata": {
  "kernelspec": {
   "display_name": "Python 3",
   "language": "python",
   "name": "python3"
  },
  "language_info": {
   "codemirror_mode": {
    "name": "ipython",
    "version": 3
   },
   "file_extension": ".py",
   "mimetype": "text/x-python",
   "name": "python",
   "nbconvert_exporter": "python",
   "pygments_lexer": "ipython3",
   "version": "3.8.3"
  },
  "varInspector": {
   "cols": {
    "lenName": 16,
    "lenType": 16,
    "lenVar": 40
   },
   "kernels_config": {
    "python": {
     "delete_cmd_postfix": "",
     "delete_cmd_prefix": "del ",
     "library": "var_list.py",
     "varRefreshCmd": "print(var_dic_list())"
    },
    "r": {
     "delete_cmd_postfix": ") ",
     "delete_cmd_prefix": "rm(",
     "library": "var_list.r",
     "varRefreshCmd": "cat(var_dic_list()) "
    }
   },
   "types_to_exclude": [
    "module",
    "function",
    "builtin_function_or_method",
    "instance",
    "_Feature"
   ],
   "window_display": false
  }
 },
 "nbformat": 4,
 "nbformat_minor": 4
}
